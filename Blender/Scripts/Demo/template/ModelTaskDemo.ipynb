{
 "cells": [
  {
   "cell_type": "code",
   "execution_count": 1,
   "metadata": {},
   "outputs": [],
   "source": [
    "import sys\n",
    "sys.path.append(\"../../\")\n",
    "from Lib.ModelTask import *\n",
    "import json"
   ]
  },
  {
   "cell_type": "code",
   "execution_count": 2,
   "metadata": {},
   "outputs": [
    {
     "data": {
      "text/plain": [
       "<IPython.core.display.Javascript object>"
      ]
     },
     "metadata": {},
     "output_type": "display_data"
    }
   ],
   "source": [
    "%%javascript\n",
    "IPython.notebook.kernel.execute('nb_name = \"' + IPython.notebook.notebook_name + '\"')"
   ]
  },
  {
   "cell_type": "markdown",
   "metadata": {},
   "source": [
    "# Some basic settings"
   ]
  },
  {
   "cell_type": "code",
   "execution_count": 3,
   "metadata": {},
   "outputs": [],
   "source": [
    "config = Config()\n",
    "config.width = 2000\n",
    "config.height = 2000\n",
    "\n",
    "texture_prefix = \"/home/zhaoc/blender-rendering/Blender/Data/Texture/\"\n",
    "config.input_prefix = \"/home/wangsd/Workspace/foliation-results/outputs/scenes/\"\n",
    "config.output_prefix = \"/pub/data/zhaoc/\"\n",
    "config.nbname=nb_name\n",
    "config.save_config(config.config_save_path)\n",
    "task = TaskHub()\n",
    "task.batch_type = \"LayerOne\""
   ]
  },
  {
   "cell_type": "markdown",
   "metadata": {},
   "source": [
    "# 1. wireframe_only"
   ]
  },
  {
   "cell_type": "code",
   "execution_count": null,
   "metadata": {},
   "outputs": [],
   "source": [
    "config.cell_name = \"wireframe_only\"\n",
    "config.material = \"wireframe_only\"\n",
    "config.cut_mode = \"None\"\n",
    "config.save_config(config.config_save_path)\n",
    "task.config_path = config.config_save_path\n",
    "task.run()"
   ]
  },
  {
   "cell_type": "markdown",
   "metadata": {},
   "source": [
    "# 2. model_only"
   ]
  },
  {
   "cell_type": "code",
   "execution_count": null,
   "metadata": {},
   "outputs": [],
   "source": [
    "config.cell_name = \"model_only\"\n",
    "config.material = \"model_only\"\n",
    "config.cut_mode = \"None\"\n",
    "config.save_config(config.config_save_path)\n",
    "task.config_path = config.config_save_path\n",
    "task.run()"
   ]
  },
  {
   "cell_type": "markdown",
   "metadata": {},
   "source": [
    "# 3. linesxy_u_only"
   ]
  },
  {
   "cell_type": "code",
   "execution_count": null,
   "metadata": {},
   "outputs": [],
   "source": [
    "config.cell_name = \"linesxy_u_only\"\n",
    "config.material = \"original\"\n",
    "config.cut_mode = \"None\"\n",
    "config.uv_multiply = (1, 0)\n",
    "config.uv_add = (0, 0.05)\n",
    "config.texture_path = texture_prefix + \"linesxy_145.png\"\n",
    "config.save_config(config.config_save_path)\n",
    "task.config_path = config.config_save_path\n",
    "task.run()"
   ]
  },
  {
   "cell_type": "markdown",
   "metadata": {},
   "source": [
    "# 4. linesxy_v_only"
   ]
  },
  {
   "cell_type": "code",
   "execution_count": null,
   "metadata": {},
   "outputs": [],
   "source": [
    "config.cell_name = \"linesxy_v_only\"\n",
    "config.material = \"original\"\n",
    "config.cut_mode = \"None\"\n",
    "config.uv_multiply = (0, 1)\n",
    "config.uv_add = (0.05, 0)\n",
    "config.texture_path = texture_prefix + \"linesxy_145.png\"\n",
    "config.save_config(config.config_save_path)\n",
    "task.config_path = config.config_save_path\n",
    "task.run()"
   ]
  },
  {
   "cell_type": "markdown",
   "metadata": {},
   "source": [
    "# 5. linesxy_uv"
   ]
  },
  {
   "cell_type": "code",
   "execution_count": null,
   "metadata": {},
   "outputs": [],
   "source": [
    "config.cell_name = \"linesxy_uv\"\n",
    "config.material = \"original\"\n",
    "config.cut_mode = \"None\"\n",
    "config.uv_multiply = (1, 1)\n",
    "config.uv_add = (0, 0)\n",
    "config.texture_path = texture_prefix + \"linesxy_145.png\"\n",
    "config.save_config(config.config_save_path)\n",
    "task.config_path = config.config_save_path\n",
    "task.run()"
   ]
  },
  {
   "cell_type": "markdown",
   "metadata": {},
   "source": [
    "# 6. checkerboard_u_only"
   ]
  },
  {
   "cell_type": "code",
   "execution_count": null,
   "metadata": {},
   "outputs": [],
   "source": [
    "config.cell_name = \"checkerboard_u_only\"\n",
    "config.material = \"original\"\n",
    "config.cut_mode = \"None\"\n",
    "config.uv_multiply = (1, 0)\n",
    "config.uv_add = (0.05, 0.05)\n",
    "config.texture_path = texture_prefix + \"checkerboard.png\"\n",
    "config.save_config(config.config_save_path)\n",
    "task.config_path = config.config_save_path\n",
    "task.run()"
   ]
  },
  {
   "cell_type": "markdown",
   "metadata": {},
   "source": [
    "# 7. checkerboard_v_only"
   ]
  },
  {
   "cell_type": "code",
   "execution_count": null,
   "metadata": {},
   "outputs": [],
   "source": [
    "config.cell_name = \"checkerboard_v_only\"\n",
    "config.material = \"original\"\n",
    "config.cut_mode = \"None\"\n",
    "config.uv_multiply = (0, 1)\n",
    "config.uv_add = (0.05, 0.05)\n",
    "config.texture_path = texture_prefix + \"checkerboard.png\"\n",
    "config.save_config(config.config_save_path)\n",
    "task.config_path = config.config_save_path\n",
    "task.run()"
   ]
  },
  {
   "cell_type": "markdown",
   "metadata": {},
   "source": [
    "# 8. checkerboard_uv"
   ]
  },
  {
   "cell_type": "code",
   "execution_count": null,
   "metadata": {},
   "outputs": [],
   "source": [
    "config.cell_name = \"checkerboard_uv\"\n",
    "config.material = \"original\"\n",
    "config.cut_mode = \"None\"\n",
    "config.uv_multiply = (1, 1)\n",
    "config.uv_add = (0.05, 0.05)\n",
    "config.texture_path = texture_prefix + \"checkerboard.png\"\n",
    "config.save_config(config.config_save_path)\n",
    "task.config_path = config.config_save_path\n",
    "task.run()"
   ]
  },
  {
   "cell_type": "markdown",
   "metadata": {},
   "source": [
    "# 9. circle"
   ]
  },
  {
   "cell_type": "code",
   "execution_count": null,
   "metadata": {},
   "outputs": [],
   "source": [
    "config.cell_name = \"circle\"\n",
    "config.material = \"original\"\n",
    "config.cut_mode = \"None\"\n",
    "config.uv_multiply = (1, 1)\n",
    "config.uv_add = (0.05, 0.05)\n",
    "config.texture_path = texture_prefix + \"circle.png\"\n",
    "config.save_config(config.config_save_path)\n",
    "task.config_path = config.config_save_path\n",
    "task.run()"
   ]
  },
  {
   "cell_type": "markdown",
   "metadata": {},
   "source": [
    "# 10. transparent"
   ]
  },
  {
   "cell_type": "code",
   "execution_count": null,
   "metadata": {},
   "outputs": [],
   "source": [
    "config.cell_name = \"transparent\"\n",
    "config.material = None\n",
    "config.material_filename = \"55-tomato-material-transparent.blend\"\n",
    "config.cut_mode = \"Segment\"\n",
    "config.save_config(config.config_save_path)\n",
    "task.config_path = config.config_save_path\n",
    "task.run()"
   ]
  },
  {
   "cell_type": "markdown",
   "metadata": {},
   "source": [
    "# 11. cut_mode_plain"
   ]
  },
  {
   "cell_type": "code",
   "execution_count": null,
   "metadata": {},
   "outputs": [],
   "source": [
    "config.cell_name = \"cut_mode_plain\"\n",
    "config.material = \"model_only\"\n",
    "config.material_filename = None\n",
    "config.show_loops = False\n",
    "config.show_singularities = False\n",
    "config.cut_mode = \"Plain\"\n",
    "config.save_config(config.config_save_path)\n",
    "task.config_path = config.config_save_path\n",
    "task.run()"
   ]
  },
  {
   "cell_type": "markdown",
   "metadata": {},
   "source": [
    "# 12. cut_mode_segment"
   ]
  },
  {
   "cell_type": "code",
   "execution_count": null,
   "metadata": {},
   "outputs": [],
   "source": [
    "config.cell_name = \"cut_mode_segment\"\n",
    "config.material = \"model_only\"\n",
    "config.material_filename = None\n",
    "config.show_loops = False\n",
    "config.show_singularities = False\n",
    "\n",
    "config.cut_mode = \"Segment\"\n",
    "config.save_config(config.config_save_path)\n",
    "task.config_path = config.config_save_path\n",
    "task.run()"
   ]
  },
  {
   "cell_type": "markdown",
   "metadata": {},
   "source": [
    "# 13. cut_mode_zero"
   ]
  },
  {
   "cell_type": "code",
   "execution_count": null,
   "metadata": {},
   "outputs": [],
   "source": [
    "config.cell_name = \"cut_mode_zero\"\n",
    "config.material = \"model_only\"\n",
    "config.material_filename = None\n",
    "config.show_loops = False\n",
    "config.show_singularities = False\n",
    "config.cut_mode = \"zero_mode\"\n",
    "config.save_config(config.config_save_path)\n",
    "task.config_path = config.config_save_path\n",
    "task.run()"
   ]
  },
  {
   "cell_type": "markdown",
   "metadata": {},
   "source": [
    "# 14. cut_mode_incoherent"
   ]
  },
  {
   "cell_type": "code",
   "execution_count": null,
   "metadata": {},
   "outputs": [],
   "source": [
    "config.cell_name = \"cut_mode_incoherent\"\n",
    "config.material = \"model_only\"\n",
    "config.material_filename = None\n",
    "config.show_loops = False\n",
    "config.show_singularities = False\n",
    "config.cut_mode = \"incoherent\"\n",
    "config.save_config(config.config_save_path)\n",
    "task.config_path = config.config_save_path\n",
    "task.run()"
   ]
  },
  {
   "cell_type": "markdown",
   "metadata": {},
   "source": [
    "# 15. Animation"
   ]
  },
  {
   "cell_type": "code",
   "execution_count": null,
   "metadata": {},
   "outputs": [],
   "source": [
    "config.cell_name = \"animation\"\n",
    "config.material = \"model_only\"\n",
    "config.material_filename = None\n",
    "config.show_loops = False\n",
    "config.show_singularities = False\n",
    "config.cut_mode = \"None\"\n",
    "\n",
    "config.mode = \"rotation\"\n",
    "config.rotation_start = 0\n",
    "config.rotation_step = 180\n",
    "config.rotation_end = 360\n",
    "config.rotation_axis = \"Z\"\n",
    "config.save_config(config.config_save_path)\n",
    "\n",
    "task.config_path = config.config_save_path\n",
    "task.run()"
   ]
  },
  {
   "cell_type": "markdown",
   "metadata": {},
   "source": [
    "# 16. All materials for one model"
   ]
  },
  {
   "cell_type": "code",
   "execution_count": null,
   "metadata": {},
   "outputs": [],
   "source": [
    "config.cell_name = \"model_material\"\n",
    "# input one model\n",
    "config.input_prefix = \"/home/zhaoc/cg/Blender/Scene/eight/\"\n",
    "task.material_path = \"/home/zhaoc/cg/Blender/Data/Materials/\"\n",
    "config.output_prefix = \"/home/zhaoc/cg/Blender/Output/\"\n",
    "config.nbname=nb_name\n",
    "config.save_config(config.config_save_path)\n",
    "task.batch_type = \"Materials\"\n",
    "task.config_path = config.config_save_path\n",
    "task.run()\n",
    "\n"
   ]
  },
  {
   "cell_type": "markdown",
   "metadata": {},
   "source": [
    "# 17. All textures for one model"
   ]
  },
  {
   "cell_type": "code",
   "execution_count": null,
   "metadata": {},
   "outputs": [],
   "source": [
    "config.cell_name = \"model_texture\"\n",
    "# input one model\n",
    "config.input_prefix = \"/home/zhaoc/cg/Blender/Scene/eight/\"\n",
    "task.texture_path = \"/home/zhaoc/cg/Blender/Data/Texture/\"\n",
    "config.output_prefix = \"/home/zhaoc/cg/Blender/Output/\"\n",
    "config.nbname=nb_name\n",
    "config.save_config(config.config_save_path)\n",
    "task.batch_type = \"Textures\"\n",
    "task.config_path = config.config_save_path\n",
    "task.run()"
   ]
  },
  {
   "cell_type": "markdown",
   "metadata": {},
   "source": [
    "# 18. Animation"
   ]
  },
  {
   "cell_type": "code",
   "execution_count": null,
   "metadata": {},
   "outputs": [],
   "source": [
    "config.cell_name = \"animation\"\n",
    "config.mode = \"rotation\"\n",
    "# input one model\n",
    "config.scene_path = \"/home/zhaoc/cg/Blender/Scene/eight/\"\n",
    "config.output_prefix = \"/home/zhaoc/cg/Blender/Output/\"\n",
    "\n",
    "config.rotation_axis = \"Z\"\n",
    "config.rotation_start = 0\n",
    "config.rotation_end = 360\n",
    "config.rotation_step = 180\n",
    "\n",
    "config.nbname=nb_name\n",
    "config.save_config(config.config_save_path)\n",
    "task.batch_type = \"Single_Animation\"\n",
    "task.config_path = config.config_save_path\n",
    "task.run()"
   ]
  },
  {
   "cell_type": "markdown",
   "metadata": {},
   "source": [
    "# 19. Different Material settings"
   ]
  },
  {
   "cell_type": "code",
   "execution_count": null,
   "metadata": {},
   "outputs": [],
   "source": [
    "config.cell_name = \"specular\"\n",
    "config.mode = \"single\"\n",
    "config.material = \"original\"\n",
    "config.material_filename = None\n",
    "config.scene_path = \"/home/zhaoc/cg/Blender/Scene/eight/\"\n",
    "\n",
    "Renderscene = RenderScene()\n",
    "\n",
    "for i in range(10):\n",
    "    config.specular = i / 10\n",
    "    config.output_path = \"/home/zhaoc/cg/Blender/Output/20191224/specular/specular_%d.png\"%(i)\n",
    "    config.save_config(config.config_save_path)\n",
    "    Renderscene.config_path = config.config_save_path\n",
    "    Renderscene.render()\n",
    "task.config_path = config.config_save_path\n",
    "task.image_input = \"/home/zhaoc/cg/Blender/Output/20191224/specular/\"\n",
    "task.GenerateVideo()"
   ]
  },
  {
   "cell_type": "markdown",
   "metadata": {},
   "source": [
    "# 20. Different sample"
   ]
  },
  {
   "cell_type": "code",
   "execution_count": null,
   "metadata": {},
   "outputs": [],
   "source": [
    "config.cell_name = \"samples\"\n",
    "config.scene_path = \"/home/zhaoc/cg/Blender/Scene/eight/\"\n",
    "Renderscene = RenderScene()\n",
    "\n",
    "for sample in [200, 300, 400]:\n",
    "    # config.preview_samples = \n",
    "    config.samples = sample\n",
    "    config.output_path = \"/home/zhaoc/cg/Blender/Output/20191224/samples/samples_%d.png\"%(sample)\n",
    "    config.save_config(config.config_save_path)\n",
    "    Renderscene.config_path = config.config_save_path\n",
    "    Renderscene.render()\n",
    "\n",
    "task.config_path = config.config_save_path\n",
    "task.image_input = \"/home/zhaoc/cg/Blender/Output/20191224/samples/\"\n",
    "task.GenerateVideo()"
   ]
  },
  {
   "cell_type": "code",
   "execution_count": null,
   "metadata": {},
   "outputs": [],
   "source": []
  },
  {
   "cell_type": "code",
   "execution_count": null,
   "metadata": {},
   "outputs": [],
   "source": []
  },
  {
   "cell_type": "code",
   "execution_count": null,
   "metadata": {},
   "outputs": [],
   "source": []
  },
  {
   "cell_type": "code",
   "execution_count": null,
   "metadata": {},
   "outputs": [],
   "source": []
  }
 ],
 "metadata": {
  "kernelspec": {
   "display_name": "Python 3",
   "language": "python",
   "name": "python3"
  },
  "language_info": {
   "codemirror_mode": {
    "name": "ipython",
    "version": 3
   },
   "file_extension": ".py",
   "mimetype": "text/x-python",
   "name": "python",
   "nbconvert_exporter": "python",
   "pygments_lexer": "ipython3",
   "version": "3.6.5"
  }
 },
 "nbformat": 4,
 "nbformat_minor": 1
}
