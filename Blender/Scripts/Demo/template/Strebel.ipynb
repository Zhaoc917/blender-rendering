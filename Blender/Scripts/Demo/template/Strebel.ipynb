{
 "cells": [
  {
   "cell_type": "code",
   "execution_count": 6,
   "metadata": {},
   "outputs": [],
   "source": [
    "import os\n",
    "import sys\n",
    "sys.path.append(\"..\")\n",
    "sys.path.append(\"../../\")\n",
    "from Lib.Strebel import Strebel\n",
    "from Lib.RenderScene import RenderScene\n",
    "from Lib.ConfigClass import Config\n",
    "from Lib.ImageVideo import TaskImageVideo\n",
    "import numpy as np\n",
    "from PIL import Image\n",
    "import matplotlib.pyplot as plt\n",
    "from IPython.display import display,Video,HTML\n",
    "import imageio"
   ]
  },
  {
   "cell_type": "code",
   "execution_count": 7,
   "metadata": {},
   "outputs": [],
   "source": [
    "strebel = Strebel()\n",
    "\n",
    "strebel.number = 10\n",
    "\n",
    "# checkerboard\n",
    "color1 = [\"blue\", \"#7C4DFF\", \"#880e4f\", \"#03A9F4\", \"#0c784a\", \"#795548\", \"#0c224a\", \"#58224a\"]\n",
    "color2 = [\"#FF4081\",\"yellow\", \"orange\",\"#FFEB3B\", \"#ff88cc\"]\n",
    "\n",
    "for col_1 in color1:\n",
    "    for col_2 in color2:\n",
    "        strebel.checkerboard_colors = [col_1, col_2]\n",
    "        strebel.CheckerboardV1()\n",
    "        strebel.CheckerboardV2()\n",
    "        strebel.CheckerboardV1_white()\n",
    "        strebel.CheckerboardV2_white()\n",
    "\n",
    "# circle\n",
    "colors = [\"#FF4081\", \"blue\", \"orange\", \"#7C4DFF\", \"#536DFE\", \"#880e4f\", \"#03A9F4\", \"#8BC34A\", \"#795548\"]\n",
    "for color1 in colors:\n",
    "    # strebel.number = number\n",
    "    strebel.image_color = 'white'\n",
    "    strebel.circle_color = color1\n",
    "    strebel.CircleV1()\n",
    "    \n",
    "colors = [\"#FF4081\", \"blue\", \"orange\", \"#7C4DFF\", \"#536DFE\", \"#880e4f\", \"#03A9F4\", \"#8BC34A\", \"#795548\"]\n",
    "for color1 in colors:\n",
    "    # strebel.number = number\n",
    "    strebel.image_color = 'white'\n",
    "    strebel.circle_color = color1\n",
    "    strebel.CircleV2()\n",
    "\n",
    "\n",
    "# line\n",
    "colors = [\"blue\", \"green\", \"orange\", \"brown\"]\n",
    "count = 0\n",
    "strebel.line_number = 10\n",
    "for color1 in colors:\n",
    "    for color2 in colors:\n",
    "        if color1 != color2:\n",
    "            strebel.line_color_x = [color1] * strebel.line_number\n",
    "            strebel.line_color_y = [color2] * strebel.line_number\n",
    "            strebel.LinesXY(count)\n",
    "            count += 1"
   ]
  },
  {
   "cell_type": "code",
   "execution_count": null,
   "metadata": {},
   "outputs": [],
   "source": []
  }
 ],
 "metadata": {
  "kernelspec": {
   "display_name": "Python 3",
   "language": "python",
   "name": "python3"
  },
  "language_info": {
   "codemirror_mode": {
    "name": "ipython",
    "version": 3
   },
   "file_extension": ".py",
   "mimetype": "text/x-python",
   "name": "python",
   "nbconvert_exporter": "python",
   "pygments_lexer": "ipython3",
   "version": "3.6.5"
  }
 },
 "nbformat": 4,
 "nbformat_minor": 2
}
